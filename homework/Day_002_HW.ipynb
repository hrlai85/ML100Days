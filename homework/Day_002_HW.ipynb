{
 "cells": [
  {
   "cell_type": "markdown",
   "metadata": {},
   "source": [
    "## [作業目標]\n",
    "了解機器學習適合應用的領域與範疇。"
   ]
  },
  {
   "cell_type": "markdown",
   "metadata": {},
   "source": [
    "## [作業重點]\n",
    "透過瞭解機器學習的運作方式，找出非常適用機器學習應用的領域及其原因"
   ]
  },
  {
   "cell_type": "markdown",
   "metadata": {},
   "source": [
    "## 作業\n",
    "請找出一個你認為機器學習可以發光發熱的領域並闡述原因? "
   ]
  },
  {
   "cell_type": "code",
   "execution_count": null,
   "metadata": {},
   "outputs": [],
   "source": [
    "應用領域: 將機器學習應用於郵件自動篩檢\n",
    "利用增強式學習, 學習使用者在觀看郵件時的分類, 處理郵件方法\n",
    "如那些郵件會被直接刪除, 那些郵件會被如何歸檔, 那些需要放入緊急處理類別等\n",
    "因每個使用者在處理郵件有個自的規則與方法, 透過機器學習, 可以在背景先預想使用者處理郵件的可能結果\n",
    "再經由實際使用者的處理方式, 來進行其預想結果的增強或調整\n",
    "如此便可在一陣子訓練期之後, 來做到客制化協助使用者進行郵件分類及處理的工作\n",
    "若郵件相關軟體可結合此功能, 有機會增加使用者滿意度"
   ]
  }
 ],
 "metadata": {
  "kernelspec": {
   "display_name": "Python 3",
   "language": "python",
   "name": "python3"
  },
  "language_info": {
   "codemirror_mode": {
    "name": "ipython",
    "version": 3
   },
   "file_extension": ".py",
   "mimetype": "text/x-python",
   "name": "python",
   "nbconvert_exporter": "python",
   "pygments_lexer": "ipython3",
   "version": "3.7.6"
  }
 },
 "nbformat": 4,
 "nbformat_minor": 2
}
